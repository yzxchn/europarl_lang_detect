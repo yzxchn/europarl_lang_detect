{
 "cells": [
  {
   "cell_type": "markdown",
   "metadata": {
    "deletable": true,
    "editable": true
   },
   "source": [
    "# Language Detection using the Europarl Corpus\n",
    "\n",
    "## Introduction\n",
    "This notebook explores a machine learning approach to the task of language identification on the [Europarl corpus](http://www.statmt.org/europarl/). The first section examines the dataset and prepares the data for training. Then,  related studies on the task of language identification over this dataset will be introduced. Finally, I will introduce my approach to this problem, and present the results of my solution."
   ]
  },
  {
   "cell_type": "markdown",
   "metadata": {
    "deletable": true,
    "editable": true
   },
   "source": [
    "## Dataset Preparation\n",
    "The Europarl corpus is a collection of transcripts in 21 languages from the proceedings of the European parliament. Transcripts appear to be organized by date, and stored in folders for each respective language. Each file contains the transcript text and XML tags representing additional information on the text. There is also an [existing toolkit](http://www.statmt.org/europarl/v7/tools.tgz) for transforming the text in the dataset. This corpus will be used for training a machine learning algorithm in this task.\n",
    "\n",
    "The test data for this task is provided by [startup.ml](https://fellowship.ai/challenge/). It is a single text file containing sample label-sentence pairs for different languages, and each sample is stored in an individual line. For this task, I will train an algorithm and classify the language for each sentence in the test data. Since the test samples are sentences, it would be interesting to observe the performance of the algorithm on short test samples.\n",
    "\n",
    "### Data Cleaning\n",
    "The training data contains XML tags, so we need to remove those tags from the documents first.\n",
    "We can achieve this by using the following command on each document.\n",
    "```\n",
    "sed '/^<.*>/d' input_file > output_file\n",
    "```\n",
    "And the shell script `de-XML-corpus.sh` runs this command over all the files in the corpus, then output the cleaned up files into another directory. The resulting dataset is organized by the same directory structure as the original.\n",
    "\n",
    "\n",
    "### Note on potential overlaps between Train and Test Set\n",
    "The source of the test file is unknown, therefore it is unclear whether the data in the test file exists within the Europarl corpus used for training. It would be too resource heavy to check whether the overlaps exist, due to the large size of the training data. Therefore, this task is based on the assumption that there are no overlaps between the training data and test data. Furthermore, my solution only trained an algorithm using a small subset of data randomly sampled from the whole dataset. The possibility that there is a significant overlap between the training and test data should be very low.\n"
   ]
  },
  {
   "cell_type": "markdown",
   "metadata": {
    "deletable": true,
    "editable": true
   },
   "source": [
    "## Related Work\n",
    "The best performance in Language Identification over this dataset seems to be presented by [Baldwin and Lui](http://www.aclweb.org/anthology/P12-3005). They achieved an accuracy of 0.993 using the toolkit [language-detection](https://code.google.com/archive/p/language-detection/), and an accuracy of 0.992 with [langid.py](https://github.com/saffsd/langid.py) which they developed. `language-detection` uses a Naive Bayes classifier trained with character $n$-grams, while `langid.py` uses a multinomial Naive Bayes classifier trained over byte n-grams. \n",
    "Neither of the toolkits is trained purely on the Europarl corpus, and it is unclear whether the test data used is the same as the test set in this task."
   ]
  },
  {
   "cell_type": "markdown",
   "metadata": {
    "deletable": true,
    "editable": true
   },
   "source": [
    "## Method\n",
    "For this task, I chose to train a multinomial Naive Bayes classifier on byte $n$-grams, following [Baldwin and Lui's approach](http://www.aclweb.org/anthology/P12-3005), due to it being relatively language-agnostic. \n",
    "I used `scikit-learn`'s [HashingVectorizer](http://scikit-learn.org/stable/modules/generated/sklearn.feature_extraction.text.HashingVectorizer.html) to convert documents into feature vectors, and its [Multinomial Naive Bayes Classifier](http://scikit-learn.org/stable/modules/generated/sklearn.naive_bayes.MultinomialNB.html#sklearn.naive_bayes.MultinomialNB) as the learning algorithm.\n",
    "\n",
    "The feature extraction function is as follows:\n",
    "```python\n",
    "def get_byte_n_grams(text, n_gram_range=(1,1)):\n",
    "    text_bytes = bytes(text, 'utf-8')\n",
    "    ngrams=[]\n",
    "    beg, end=n_gram_range\n",
    "    for i in range(beg,end+1):\n",
    "        ngrams.extend(get_n_grams(text_bytes, i))\n",
    "    return map(to_string, ngrams)\n",
    "\n",
    "def to_string(ngram):\n",
    "    return \" \".join(map(str, ngram))\n",
    "\n",
    "def get_n_grams(seq, n):\n",
    "    return zip(*[seq[i:] for i in range(n)])\n",
    "```\n",
    "`get_byte_n_grams` converts the text string into bytes, then returns the literal string representations of these n-grams specified by `n_gram_range`.\n",
    "\n",
    "`scikit-learn`'s `HashingVectorizer` can be initialized with a function, and use it to convert a document into a vector representation. For this task, I used the vectorizer to extract byte $n$-grams ($1\\leq n\\leq 4$) by initializing it with the function:\n",
    "```python\n",
    "def byte_1_4_gram_analyzer(x):\n",
    "    return get_byte_n_grams(x, n_gram_range=(1,4))\n",
    "```\n",
    "\n",
    "Since we need the same vectorizer object for both training and testing, the following class is defined for the purpose of packaging a vectorizer and classifier together. After training, the trained instance of this class is pickled. For testing, the pickled object is loaded back into memory, and it is able to convert the test samples into vectors using the same vectorizer.\n",
    "```python\n",
    "from sklearn.feature_extraction.text import HashingVectorizer\n",
    "from sklearn.naive_bayes import MultinomialNB\n",
    "\n",
    "class LanguageClassifier:\n",
    "    def __init__(self, feature_function):\n",
    "        self.vectorizer = HashingVectorizer(analyzer=feature_function, \n",
    "                                            norm=None, \n",
    "                                            non_negative='total')\n",
    "        self.classifier = MultinomialNB()\n",
    "\n",
    "    def partial_train(self, samples, labels, classes):\n",
    "        \"\"\"Partially train the algorithm, using MultinomialNB's partial_fit \n",
    "        method. Use this when the size of the training sample set is too big \n",
    "        and training on multiple batches is required.\n",
    "        \"\"\"\n",
    "        sample_vectors = self.vectorizer.fit_transform(samples)\n",
    "        self.classifier.partial_fit(sample_vectors, labels, classes)\n",
    "\n",
    "    def train(self, samples, labels):\n",
    "        sample_vectors = self.vectorizer.fit_transform(samples)\n",
    "        self.classifier.fit(sample_vectors, labels)\n",
    "\n",
    "    def predict(self, samples):\n",
    "        sample_vectors = self.vectorizer.transform(samples)\n",
    "        return self.classifier.predict(sample_vectors)\n",
    "```\n",
    "\n",
    "Even though I attempted to train the model using batches of the training data, training on the whole dataset appeared to be too memory-intensive for my local machine. Therefore, I tried training on subsets of various sizes from the whole dataset. The training processes are carried out by the following script:\n",
    "```python\n",
    "import os, sys\n",
    "from lang_classifier import LanguageClassifier\n",
    "from analyzer import byte_1_4_gram_analyzer\n",
    "import random\n",
    "import pickle\n",
    "\n",
    "doc_directory = sys.argv[1]\n",
    "classifier_output = sys.argv[2]\n",
    "TRAIN_SIZE=int(sys.argv[3])\n",
    "\n",
    "classifier = LanguageClassifier(byte_1_4_gram_analyzer)\n",
    "\n",
    "# get the list of folders in the training set\n",
    "lang_folders = os.listdir(doc_directory)\n",
    "\n",
    "for l in lang_folders:\n",
    "    print(\"Training with files in folder {}\".format(l))\n",
    "    folder_path = os.path.join(doc_directory, l)\n",
    "    files = os.listdir(folder_path)\n",
    "    random.seed(1)\n",
    "    samples = []\n",
    "    labels = []\n",
    "    for f in random.sample(files, TRAIN_SIZE):\n",
    "        file_path = os.path.join(folder_path, f)\n",
    "        with open(file_path) as sample:\n",
    "            samples.append(sample.read())\n",
    "        labels.append(l)\n",
    "    classifier.partial_train(samples, labels, lang_folders)\n",
    "\n",
    "with open(classifier_output, 'wb') as out:\n",
    "    pickle.dump(classifier, out)\n",
    "```\n",
    "The script randomly samples a subset with a user-specified size from each language's folder. Then uses the sampled documents to train the classifier. The trained classifier is then pickled for later testing.\n",
    "\n",
    "The script `evaluate.py` tests a pickled classifier on the test data, then prints out its performance. The testing results are presented in the next section."
   ]
  },
  {
   "cell_type": "markdown",
   "metadata": {
    "deletable": true,
    "editable": true
   },
   "source": [
    "# Evaluation\n",
    "As mentioned above, I only used randomly sampled small portions of the whole dataset to train the algorithm. Multiple experiments have been done using a training set of sizes ranging from 50 documents per language to 800, with increments of 50. The following graph shows the growth of classifier accuracy as the size of the training data grows.\n",
    "![accuracy grows with training data size](https://raw.githubusercontent.com/yzxchn/europarl_lang_detect/master/accuracy_growth.png)\n",
    "It shows that, the accuracy increases as the size of the training data gets bigger. However, there is not a significant gain after the training data size becomes several hundred documents per language.\n",
    "The maximum training data size was 800 documents per language. The trained algorithm achieved the accuracy of 0.9997 on the test data. \n",
    "More detailed reports on the performance of each trained classifier can be found in the folder `\\results`. The name of each `.txt` file is the number of documents per language used for training the corresponding model."
   ]
  },
  {
   "cell_type": "markdown",
   "metadata": {},
   "source": [
    "# Disussion\n",
    "The test result shows that, the algorithm is able to achieve high accuracy on classifying short sentences. In addition, the classifier's accuracy is higher than `langid.py`'s 0.992, and `language-detection`'s 0.993. However, this does not prove that this classifier is better than the other toolkits: it is unclear that whether the test data used in the evaluation of the two language identifiers are the same as the one used in this task; those toolkits are also trained on a datasets that have a much wider range of domains and can be used for general purposes. \n",
    "For future work, we could focus on domain adaptation and train the classifier on a wider range of documents from different domains. In addition, the topic of language identification on text that contains text from other languages seems to be popular in this field, and it would be interesting to see the performance of this classifier on such data, and find ways to adapt the classifier to such problems."
   ]
  }
 ],
 "metadata": {
  "kernelspec": {
   "display_name": "Python 3",
   "language": "python",
   "name": "python3"
  },
  "language_info": {
   "codemirror_mode": {
    "name": "ipython",
    "version": 3
   },
   "file_extension": ".py",
   "mimetype": "text/x-python",
   "name": "python",
   "nbconvert_exporter": "python",
   "pygments_lexer": "ipython3",
   "version": "3.5.2"
  }
 },
 "nbformat": 4,
 "nbformat_minor": 2
}
