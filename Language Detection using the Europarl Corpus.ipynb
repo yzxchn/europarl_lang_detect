{
 "cells": [
  {
   "cell_type": "markdown",
   "metadata": {},
   "source": [
    "# Language Detection using the Europarl Corpus\n",
    "\n",
    "## Introduction\n",
    "This notebook explores a machine learning approach to the task of language identification on the [Europarl corpus](http://www.statmt.org/europarl/). The first section examines the dataset and related studies. Then, the baseline approach and its performance will be demonstrated. Finally, my approach to this problem will be presented in the last section.\n",
    "\n",
    "## Dataset Preparation\n",
    "The Europarl corpus is a collection of transcripts in 21 languages from the proceedings of the European parliament. Transcripts appear to be organized by date, and stored in folders for each respective language. Each file contains the transcript text and XML tags representing additional information on the text. There is also an [existing toolkit](http://www.statmt.org/europarl/v7/tools.tgz) for transforming the text in the dataset. This corpus will be used for training a machine learning algorithm in this task.\n",
    "\n",
    "The test data for this task is provided by [startup.ml](https://fellowship.ai/challenge/). It is a single text file containing sample label-sentence pairs for different languages, and each sample is stored in an individual line. \n",
    "\n",
    "### Data Cleaning\n",
    "Since the training data contains XML tags, and the raw text is not segmented by sentences unlike the test data, I decided to remove the XML information, and transform the training data into a format that is similar to that of the test data, for the purpose of facilitating the training process.\n",
    "```python\n",
    "\n",
    "```\n",
    "### Check for Overlaps between Train and Test Set\n",
    "The source of the test file is unknown, therefore it is unclear whether the data in the test file is contained within the Europarl corpus used for training. For this reason, we need to check whether the training data contains the test data."
   ]
  }
 ],
 "metadata": {
  "kernelspec": {
   "display_name": "Python 3",
   "language": "python",
   "name": "python3"
  },
  "language_info": {
   "codemirror_mode": {
    "name": "ipython",
    "version": 3
   },
   "file_extension": ".py",
   "mimetype": "text/x-python",
   "name": "python",
   "nbconvert_exporter": "python",
   "pygments_lexer": "ipython3",
   "version": "3.5.2"
  }
 },
 "nbformat": 4,
 "nbformat_minor": 2
}
